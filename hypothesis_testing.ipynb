{
 "cells": [
  {
   "cell_type": "markdown",
   "metadata": {},
   "source": [
    "### For each of the following questions\n",
    "- formulate a null and alternative hypothesis (be as specific as you can be)\n",
    "- then give an example of what the following would look like :\n",
    "    - true positive: null is false and we reject null\n",
    "    - true negative: null is true and we accept null\n",
    "    - type I error (or False Positive): We reject the null but in reality it is true\n",
    "    - type II errors (or False negative): fail to reject null but it is false"
   ]
  },
  {
   "cell_type": "markdown",
   "metadata": {},
   "source": [
    "### Has the network latency gone up since we switched internet service providers?\n",
    "\n",
    "- New Question: Is there an increase in the network latency before and after new internet service providers?\n",
    "\n",
    "- Null Hypothesis: There is not a significant increase in network latency before and after new internet service providers\n",
    "\n",
    "- Alt Hypothesis: There is a significant increase in network latency before and after new internet service providers\n",
    "\n",
    "- True Pos: We say there is a significant increase in network latency before and after new internet service providers and that is correct in reality\n",
    "\n",
    "- True Neg: We say there is not a significant increase in network latency before and after new internet service providers and that is correct in reality\n",
    "\n",
    "- Type I error: We say there is a significant increase in network latency before and after new internet service providers but in reality there is not\n",
    "\n",
    "- Type II error: We say there is not a significant increase in network latency before and after new internet service providers but in reality there is\n"
   ]
  },
  {
   "cell_type": "markdown",
   "metadata": {},
   "source": [
    "### Is the website redesign any good?\n",
    "\n",
    "- New Question: Is there an increase in the conversion rate before and after website redesign?\n",
    "- Null Hypothesis: There is no change in conversion rate before and after website redesign\n",
    "- Alt Hypothesis: There is a significant increase in conversion rate before and after website redesign\n",
    "- True Pos: We say there is a significant increase in conversion rate before and after website redesign and that is correct in reality\n",
    "- True Neg: We say there is not a significant increase in conversion rate before and after website redesign and that is correct in reality\n",
    "- Type I error: We say there is a significant increase in conversion rate before and after website redesign but in reality there is not\n",
    "- Type II error: We say there is not a significant increase in conversion rate before and after website redesign but in reality there is"
   ]
  },
  {
   "cell_type": "markdown",
   "metadata": {},
   "source": [
    "### Is our television ad driving more sales?\n",
    "- New Question: Is there an increase in sales after the new tv ad?\n",
    "- Null Hypothesis: There is not a significant increase in sales before and after new tv ad\n",
    "- Alt Hypothesis: There is a significant increase in sales before and after new tv ad\n",
    "- True Pos: We say there is a significant increase in sales before and after new tv ad and that is correct in reality\n",
    "- True Neg: We say there is not a significant increase in sales before and after new tv ad and that is correct in reality\n",
    "- Type I error: We say there is a significant increase in sales before and after new tv ad but in reality there is not\n",
    "- Type II error: We say there is not a significant increase in sales before and after new tv ad but in reality there is"
   ]
  },
  {
   "cell_type": "markdown",
   "metadata": {},
   "source": [
    "### Questions to ask of Telco data"
   ]
  },
  {
   "cell_type": "markdown",
   "metadata": {},
   "source": [
    "- Is there a relationship between monthly charges and :\n",
    "    - tenure\n",
    "    - gender\n",
    "    - is_senior_citizen\n",
    "    - payment_type\n",
    "    - contract type\n",
    "    - internet service\n",
    "    - streaming tv\n",
    "    - streaming movies\n",
    "    \n",
    "    \n",
    "- Is there a relationship between churn and:\n",
    "    - tenure\n",
    "    - gender (Are male customers more likely to churn?)\n",
    "    - is_senior_citizen (Are senior citizens more likely to churn?)\n",
    "    - payment_type\n",
    "    - contract type\n",
    "    - phone service\n",
    "    - internet service\n",
    "    - streaming tv\n",
    "    - streaming movies\n",
    "    - dependents\n",
    "    \n",
    "    \n",
    "- Are males more likely to stream tv and movies than females?\n",
    "\n",
    "\n",
    "- Is there a difference in the length of tenure for men and women?\n",
    "\n",
    "\n",
    "- Are customers with dependents more likely to have fiber optic internet?\n",
    "\n",
    "\n",
    "- Are seniors more likely to have month to month contracts?"
   ]
  },
  {
   "cell_type": "markdown",
   "metadata": {},
   "source": [
    "### Questions to ask of Zillow data\n",
    "\n",
    "- Is there a relationship between price and:\n",
    "    - sq footage\n",
    "    - year built\n",
    "    - number of stories\n",
    "    - number of bedrooms\n",
    "    - number of bathrooms\n",
    "    - ac type\n",
    "    - building class type\n",
    "    - fireplace count\n",
    "    - garage count\n",
    "    - garage sq footage\n",
    "    - heating systems\n",
    "    - pool size\n",
    "    - propety zone\n",
    "    - zip code\n",
    "    - tax amount\n",
    "    - building class type\n",
    "    - architectural style\n",
    "    - construction type\n",
    "    \n",
    "    \n",
    "    \n",
    "- Do older properties have higher taxes?\n",
    "\n",
    "\n",
    "\n",
    "- Is there a relationship between architecutral style and:\n",
    "    - number of stories\n",
    "    - ac type\n",
    "    - zip code\n",
    "    - year built\n",
    "    - sq footage \n",
    "    - fireplace count\n",
    "    - number of bedrooms\n",
    "    - number of bathrooms\n",
    "    - garage count\n",
    "    - tax amount \n",
    "    - building class type\n",
    "    - construction type\n",
    "   "
   ]
  }
 ],
 "metadata": {
  "kernelspec": {
   "display_name": "Python 3",
   "language": "python",
   "name": "python3"
  },
  "language_info": {
   "codemirror_mode": {
    "name": "ipython",
    "version": 3
   },
   "file_extension": ".py",
   "mimetype": "text/x-python",
   "name": "python",
   "nbconvert_exporter": "python",
   "pygments_lexer": "ipython3",
   "version": "3.8.5"
  }
 },
 "nbformat": 4,
 "nbformat_minor": 4
}
